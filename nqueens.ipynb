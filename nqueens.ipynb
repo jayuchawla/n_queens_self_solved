{
 "cells": [
  {
   "cell_type": "code",
   "execution_count": null,
   "metadata": {},
   "outputs": [],
   "source": []
  },
  {
   "cell_type": "code",
   "execution_count": 51,
   "metadata": {},
   "outputs": [],
   "source": [
    "def safe_rowcheck(row):\n",
    "    print('for row',row,' lookup: ',rowlookup[row])\n",
    "    if rowlookup[row] == False:\n",
    "        return True\n",
    "    return False"
   ]
  },
  {
   "cell_type": "code",
   "execution_count": 56,
   "metadata": {},
   "outputs": [],
   "source": [
    "def safe_diagonal(row,col):\n",
    "    print('for fdiag ',fdiag[row][col],' lookup: ',fdiaglookup[fdiag[row][col]])\n",
    "    print('for bdiag ',bdiag[row][col],' lookup: ',bdiaglookup[bdiag[row][col]])\n",
    "    if(fdiaglookup[fdiag[row][col]]==False and bdiaglookup[bdiag[row][col]]==False):\n",
    "        return True\n",
    "    return False"
   ]
  },
  {
   "cell_type": "code",
   "execution_count": 82,
   "metadata": {},
   "outputs": [],
   "source": [
    "def nq(n,col):\n",
    "    if col==n:\n",
    "        return True\n",
    "    for row in range(n):\n",
    "        print('QUeen: ',col,' row: ',row)\n",
    "        if safe_rowcheck(row)==True and safe_diagonal(row,col)==True:\n",
    "            print(row)\n",
    "            mat[row][col] = 1\n",
    "            rowlookup[row] = True\n",
    "            fdiaglookup[fdiag[row][col]]=True\n",
    "            bdiaglookup[bdiag[row][col]]=True\n",
    "            \n",
    "            flag=nq(n,col+1)\n",
    "            if flag==True:\n",
    "                return True\n",
    "    \n",
    "            mat[row][col] = 0\n",
    "            rowlookup[row] = False\n",
    "            fdiaglookup[fdiag[row][col]]=False\n",
    "            bdiaglookup[bdiag[row][col]]=False\n",
    "            #return False\n",
    "    return False\n",
    "            "
   ]
  },
  {
   "cell_type": "code",
   "execution_count": 83,
   "metadata": {},
   "outputs": [],
   "source": [
    "def create_matrices(n):\n",
    "    for row in range(n):\n",
    "        for col in range(n):\n",
    "            fdiag[row][col] = row + col\n",
    "            bdiag[row][col] = row - col + n-1"
   ]
  },
  {
   "cell_type": "code",
   "execution_count": 86,
   "metadata": {},
   "outputs": [
    {
     "name": "stdout",
     "output_type": "stream",
     "text": [
      "Value of n: 3\n",
      "QUeen:  0  row:  0\n",
      "for row 0  lookup:  False\n",
      "for fdiag  0  lookup:  False\n",
      "for bdiag  2  lookup:  False\n",
      "0\n",
      "QUeen:  1  row:  0\n",
      "for row 0  lookup:  True\n",
      "QUeen:  1  row:  1\n",
      "for row 1  lookup:  False\n",
      "for fdiag  2  lookup:  False\n",
      "for bdiag  2  lookup:  True\n",
      "QUeen:  1  row:  2\n",
      "for row 2  lookup:  False\n",
      "for fdiag  3  lookup:  False\n",
      "for bdiag  3  lookup:  False\n",
      "2\n",
      "QUeen:  2  row:  0\n",
      "for row 0  lookup:  True\n",
      "QUeen:  2  row:  1\n",
      "for row 1  lookup:  False\n",
      "for fdiag  3  lookup:  True\n",
      "for bdiag  1  lookup:  False\n",
      "QUeen:  2  row:  2\n",
      "for row 2  lookup:  True\n",
      "QUeen:  0  row:  1\n",
      "for row 1  lookup:  False\n",
      "for fdiag  1  lookup:  False\n",
      "for bdiag  3  lookup:  False\n",
      "1\n",
      "QUeen:  1  row:  0\n",
      "for row 0  lookup:  False\n",
      "for fdiag  1  lookup:  True\n",
      "for bdiag  1  lookup:  False\n",
      "QUeen:  1  row:  1\n",
      "for row 1  lookup:  True\n",
      "QUeen:  1  row:  2\n",
      "for row 2  lookup:  False\n",
      "for fdiag  3  lookup:  False\n",
      "for bdiag  3  lookup:  True\n",
      "QUeen:  0  row:  2\n",
      "for row 2  lookup:  False\n",
      "for fdiag  2  lookup:  False\n",
      "for bdiag  4  lookup:  False\n",
      "2\n",
      "QUeen:  1  row:  0\n",
      "for row 0  lookup:  False\n",
      "for fdiag  1  lookup:  False\n",
      "for bdiag  1  lookup:  False\n",
      "0\n",
      "QUeen:  2  row:  0\n",
      "for row 0  lookup:  True\n",
      "QUeen:  2  row:  1\n",
      "for row 1  lookup:  False\n",
      "for fdiag  3  lookup:  False\n",
      "for bdiag  1  lookup:  True\n",
      "QUeen:  2  row:  2\n",
      "for row 2  lookup:  True\n",
      "QUeen:  1  row:  1\n",
      "for row 1  lookup:  False\n",
      "for fdiag  2  lookup:  True\n",
      "for bdiag  2  lookup:  False\n",
      "QUeen:  1  row:  2\n",
      "for row 2  lookup:  True\n",
      "False\n",
      "[0, 0, 0]\n",
      "[0, 0, 0]\n",
      "[0, 0, 0]\n"
     ]
    }
   ],
   "source": [
    "fdiag = [[0 for i in range(1,101)]for j in range(1,101)]\n",
    "bdiag = [[0 for i in range(1,101)]for j in range(1,101)]\n",
    "mat = [[0 for i in range(1,101)]for j in range(1,101)]\n",
    "fdiaglookup = [False for i in range(1,200)]\n",
    "bdiaglookup = [False for i in range(1,200)]\n",
    "rowlookup = [False for i in range(1,101)]\n",
    "\n",
    "n = int(input('Value of n: '))\n",
    "create_matrices(n)\n",
    "print(nq(n,0))\n",
    "for i in range(n):\n",
    "    print(mat[i][0:n])"
   ]
  },
  {
   "cell_type": "code",
   "execution_count": null,
   "metadata": {},
   "outputs": [],
   "source": []
  }
 ],
 "metadata": {
  "kernelspec": {
   "display_name": "Python 3",
   "language": "python",
   "name": "python3"
  },
  "language_info": {
   "codemirror_mode": {
    "name": "ipython",
    "version": 3
   },
   "file_extension": ".py",
   "mimetype": "text/x-python",
   "name": "python",
   "nbconvert_exporter": "python",
   "pygments_lexer": "ipython3",
   "version": "3.7.3"
  }
 },
 "nbformat": 4,
 "nbformat_minor": 2
}
